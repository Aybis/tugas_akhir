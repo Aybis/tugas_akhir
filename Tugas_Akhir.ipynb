{
  "nbformat": 4,
  "nbformat_minor": 0,
  "metadata": {
    "colab": {
      "provenance": [],
      "include_colab_link": true
    },
    "kernelspec": {
      "name": "python3",
      "display_name": "Python 3"
    },
    "language_info": {
      "name": "python"
    }
  },
  "cells": [
    {
      "cell_type": "markdown",
      "metadata": {
        "id": "view-in-github",
        "colab_type": "text"
      },
      "source": [
        "<a href=\"https://colab.research.google.com/github/Aybis/tugas_akhir/blob/main/Tugas_Akhir.ipynb\" target=\"_parent\"><img src=\"https://colab.research.google.com/assets/colab-badge.svg\" alt=\"Open In Colab\"/></a>"
      ]
    },
    {
      "cell_type": "markdown",
      "source": [
        "# DATA PREPROCESSING"
      ],
      "metadata": {
        "id": "XT3Qad8Vo7zR"
      }
    },
    {
      "cell_type": "markdown",
      "source": [
        "Input Libraries"
      ],
      "metadata": {
        "id": "eDKPDRNKrDTx"
      }
    },
    {
      "cell_type": "code",
      "source": [
        "import numpy as np\n",
        "import matplotlib.pyplot as plt\n",
        "import pandas as pd\n",
        "import seaborn as sns"
      ],
      "metadata": {
        "id": "4R1oUPivrGhn"
      },
      "execution_count": null,
      "outputs": []
    },
    {
      "cell_type": "markdown",
      "source": [
        "Importing Dataset"
      ],
      "metadata": {
        "id": "9h4XrXaLsOVd"
      }
    },
    {
      "cell_type": "code",
      "source": [
        "dataset = pd.read_csv('Data.csv')"
      ],
      "metadata": {
        "id": "OZryePuFBSZB"
      },
      "execution_count": null,
      "outputs": []
    },
    {
      "cell_type": "code",
      "source": [
        "dataset.head()"
      ],
      "metadata": {
        "colab": {
          "base_uri": "https://localhost:8080/",
          "height": 409
        },
        "id": "lllIdiNmBR3L",
        "outputId": "e27110d8-77d2-4a88-8293-101aedbc1a72"
      },
      "execution_count": null,
      "outputs": [
        {
          "output_type": "execute_result",
          "data": {
            "text/plain": [
              "         Jenis Alat Tipe Alat Merk Alat  Usia Alat  Tahun Pembuatan Alat  \\\n",
              "0  Vibratory Roller    SV525D     SAKAI         10                  2013   \n",
              "1  Vibratory Roller    SV525D     SAKAI         10                  2013   \n",
              "2  Vibratory Roller    SV525D     SAKAI          9                  2013   \n",
              "3    Padfoot Roller   SV525TF     SAKAI          9                  2013   \n",
              "4     Tandem Roller   SW625-1     SAKAI          8                  2013   \n",
              "\n",
              "   Tahun Jual Alat  Intensitas Penggunaan  \\\n",
              "0             2023                   3700   \n",
              "1             2023                   4176   \n",
              "2             2022                   2782   \n",
              "3             2022                   4351   \n",
              "4             2021                   6502   \n",
              "\n",
              "   Intensitas Penggunaan Selama Umur Alat  Kondisi Alat Kepemilikan  \\\n",
              "0                                   37000             5   BELI BARU   \n",
              "1                                   41760             5   BELI BARU   \n",
              "2                                   25038             5   BELI BARU   \n",
              "3                                   39159             5   BELI BARU   \n",
              "4                                   52016             4   BELI BARU   \n",
              "\n",
              "   Market Value  \n",
              "0     717155000  \n",
              "1     498234000  \n",
              "2     566175000  \n",
              "3     694508000  \n",
              "4     315525000  "
            ],
            "text/html": [
              "\n",
              "  <div id=\"df-83a7f196-d5d7-43ae-a85a-1f9baf1b54e6\">\n",
              "    <div class=\"colab-df-container\">\n",
              "      <div>\n",
              "<style scoped>\n",
              "    .dataframe tbody tr th:only-of-type {\n",
              "        vertical-align: middle;\n",
              "    }\n",
              "\n",
              "    .dataframe tbody tr th {\n",
              "        vertical-align: top;\n",
              "    }\n",
              "\n",
              "    .dataframe thead th {\n",
              "        text-align: right;\n",
              "    }\n",
              "</style>\n",
              "<table border=\"1\" class=\"dataframe\">\n",
              "  <thead>\n",
              "    <tr style=\"text-align: right;\">\n",
              "      <th></th>\n",
              "      <th>Jenis Alat</th>\n",
              "      <th>Tipe Alat</th>\n",
              "      <th>Merk Alat</th>\n",
              "      <th>Usia Alat</th>\n",
              "      <th>Tahun Pembuatan Alat</th>\n",
              "      <th>Tahun Jual Alat</th>\n",
              "      <th>Intensitas Penggunaan</th>\n",
              "      <th>Intensitas Penggunaan Selama Umur Alat</th>\n",
              "      <th>Kondisi Alat</th>\n",
              "      <th>Kepemilikan</th>\n",
              "      <th>Market Value</th>\n",
              "    </tr>\n",
              "  </thead>\n",
              "  <tbody>\n",
              "    <tr>\n",
              "      <th>0</th>\n",
              "      <td>Vibratory Roller</td>\n",
              "      <td>SV525D</td>\n",
              "      <td>SAKAI</td>\n",
              "      <td>10</td>\n",
              "      <td>2013</td>\n",
              "      <td>2023</td>\n",
              "      <td>3700</td>\n",
              "      <td>37000</td>\n",
              "      <td>5</td>\n",
              "      <td>BELI BARU</td>\n",
              "      <td>717155000</td>\n",
              "    </tr>\n",
              "    <tr>\n",
              "      <th>1</th>\n",
              "      <td>Vibratory Roller</td>\n",
              "      <td>SV525D</td>\n",
              "      <td>SAKAI</td>\n",
              "      <td>10</td>\n",
              "      <td>2013</td>\n",
              "      <td>2023</td>\n",
              "      <td>4176</td>\n",
              "      <td>41760</td>\n",
              "      <td>5</td>\n",
              "      <td>BELI BARU</td>\n",
              "      <td>498234000</td>\n",
              "    </tr>\n",
              "    <tr>\n",
              "      <th>2</th>\n",
              "      <td>Vibratory Roller</td>\n",
              "      <td>SV525D</td>\n",
              "      <td>SAKAI</td>\n",
              "      <td>9</td>\n",
              "      <td>2013</td>\n",
              "      <td>2022</td>\n",
              "      <td>2782</td>\n",
              "      <td>25038</td>\n",
              "      <td>5</td>\n",
              "      <td>BELI BARU</td>\n",
              "      <td>566175000</td>\n",
              "    </tr>\n",
              "    <tr>\n",
              "      <th>3</th>\n",
              "      <td>Padfoot Roller</td>\n",
              "      <td>SV525TF</td>\n",
              "      <td>SAKAI</td>\n",
              "      <td>9</td>\n",
              "      <td>2013</td>\n",
              "      <td>2022</td>\n",
              "      <td>4351</td>\n",
              "      <td>39159</td>\n",
              "      <td>5</td>\n",
              "      <td>BELI BARU</td>\n",
              "      <td>694508000</td>\n",
              "    </tr>\n",
              "    <tr>\n",
              "      <th>4</th>\n",
              "      <td>Tandem Roller</td>\n",
              "      <td>SW625-1</td>\n",
              "      <td>SAKAI</td>\n",
              "      <td>8</td>\n",
              "      <td>2013</td>\n",
              "      <td>2021</td>\n",
              "      <td>6502</td>\n",
              "      <td>52016</td>\n",
              "      <td>4</td>\n",
              "      <td>BELI BARU</td>\n",
              "      <td>315525000</td>\n",
              "    </tr>\n",
              "  </tbody>\n",
              "</table>\n",
              "</div>\n",
              "      <button class=\"colab-df-convert\" onclick=\"convertToInteractive('df-83a7f196-d5d7-43ae-a85a-1f9baf1b54e6')\"\n",
              "              title=\"Convert this dataframe to an interactive table.\"\n",
              "              style=\"display:none;\">\n",
              "        \n",
              "  <svg xmlns=\"http://www.w3.org/2000/svg\" height=\"24px\"viewBox=\"0 0 24 24\"\n",
              "       width=\"24px\">\n",
              "    <path d=\"M0 0h24v24H0V0z\" fill=\"none\"/>\n",
              "    <path d=\"M18.56 5.44l.94 2.06.94-2.06 2.06-.94-2.06-.94-.94-2.06-.94 2.06-2.06.94zm-11 1L8.5 8.5l.94-2.06 2.06-.94-2.06-.94L8.5 2.5l-.94 2.06-2.06.94zm10 10l.94 2.06.94-2.06 2.06-.94-2.06-.94-.94-2.06-.94 2.06-2.06.94z\"/><path d=\"M17.41 7.96l-1.37-1.37c-.4-.4-.92-.59-1.43-.59-.52 0-1.04.2-1.43.59L10.3 9.45l-7.72 7.72c-.78.78-.78 2.05 0 2.83L4 21.41c.39.39.9.59 1.41.59.51 0 1.02-.2 1.41-.59l7.78-7.78 2.81-2.81c.8-.78.8-2.07 0-2.86zM5.41 20L4 18.59l7.72-7.72 1.47 1.35L5.41 20z\"/>\n",
              "  </svg>\n",
              "      </button>\n",
              "      \n",
              "  <style>\n",
              "    .colab-df-container {\n",
              "      display:flex;\n",
              "      flex-wrap:wrap;\n",
              "      gap: 12px;\n",
              "    }\n",
              "\n",
              "    .colab-df-convert {\n",
              "      background-color: #E8F0FE;\n",
              "      border: none;\n",
              "      border-radius: 50%;\n",
              "      cursor: pointer;\n",
              "      display: none;\n",
              "      fill: #1967D2;\n",
              "      height: 32px;\n",
              "      padding: 0 0 0 0;\n",
              "      width: 32px;\n",
              "    }\n",
              "\n",
              "    .colab-df-convert:hover {\n",
              "      background-color: #E2EBFA;\n",
              "      box-shadow: 0px 1px 2px rgba(60, 64, 67, 0.3), 0px 1px 3px 1px rgba(60, 64, 67, 0.15);\n",
              "      fill: #174EA6;\n",
              "    }\n",
              "\n",
              "    [theme=dark] .colab-df-convert {\n",
              "      background-color: #3B4455;\n",
              "      fill: #D2E3FC;\n",
              "    }\n",
              "\n",
              "    [theme=dark] .colab-df-convert:hover {\n",
              "      background-color: #434B5C;\n",
              "      box-shadow: 0px 1px 3px 1px rgba(0, 0, 0, 0.15);\n",
              "      filter: drop-shadow(0px 1px 2px rgba(0, 0, 0, 0.3));\n",
              "      fill: #FFFFFF;\n",
              "    }\n",
              "  </style>\n",
              "\n",
              "      <script>\n",
              "        const buttonEl =\n",
              "          document.querySelector('#df-83a7f196-d5d7-43ae-a85a-1f9baf1b54e6 button.colab-df-convert');\n",
              "        buttonEl.style.display =\n",
              "          google.colab.kernel.accessAllowed ? 'block' : 'none';\n",
              "\n",
              "        async function convertToInteractive(key) {\n",
              "          const element = document.querySelector('#df-83a7f196-d5d7-43ae-a85a-1f9baf1b54e6');\n",
              "          const dataTable =\n",
              "            await google.colab.kernel.invokeFunction('convertToInteractive',\n",
              "                                                     [key], {});\n",
              "          if (!dataTable) return;\n",
              "\n",
              "          const docLinkHtml = 'Like what you see? Visit the ' +\n",
              "            '<a target=\"_blank\" href=https://colab.research.google.com/notebooks/data_table.ipynb>data table notebook</a>'\n",
              "            + ' to learn more about interactive tables.';\n",
              "          element.innerHTML = '';\n",
              "          dataTable['output_type'] = 'display_data';\n",
              "          await google.colab.output.renderOutput(dataTable, element);\n",
              "          const docLink = document.createElement('div');\n",
              "          docLink.innerHTML = docLinkHtml;\n",
              "          element.appendChild(docLink);\n",
              "        }\n",
              "      </script>\n",
              "    </div>\n",
              "  </div>\n",
              "  "
            ]
          },
          "metadata": {},
          "execution_count": 3
        }
      ]
    },
    {
      "cell_type": "code",
      "source": [
        "dataset.info()"
      ],
      "metadata": {
        "colab": {
          "base_uri": "https://localhost:8080/"
        },
        "id": "LffkGlJHp3-Q",
        "outputId": "5476b81a-d63d-4078-ec4c-9528d1c5b167"
      },
      "execution_count": null,
      "outputs": [
        {
          "output_type": "stream",
          "name": "stdout",
          "text": [
            "<class 'pandas.core.frame.DataFrame'>\n",
            "RangeIndex: 115 entries, 0 to 114\n",
            "Data columns (total 11 columns):\n",
            " #   Column                                  Non-Null Count  Dtype \n",
            "---  ------                                  --------------  ----- \n",
            " 0   Jenis Alat                              115 non-null    object\n",
            " 1   Tipe Alat                               115 non-null    object\n",
            " 2   Merk Alat                               115 non-null    object\n",
            " 3   Usia Alat                               115 non-null    int64 \n",
            " 4   Tahun Pembuatan Alat                    115 non-null    int64 \n",
            " 5   Tahun Jual Alat                         115 non-null    int64 \n",
            " 6   Intensitas Penggunaan                   115 non-null    int64 \n",
            " 7   Intensitas Penggunaan Selama Umur Alat  115 non-null    int64 \n",
            " 8   Kondisi Alat                            115 non-null    int64 \n",
            " 9   Kepemilikan                             115 non-null    object\n",
            " 10  Market Value                            115 non-null    int64 \n",
            "dtypes: int64(7), object(4)\n",
            "memory usage: 10.0+ KB\n"
          ]
        }
      ]
    },
    {
      "cell_type": "code",
      "source": [
        "plt.figure(figsize=(15,10))\n",
        "plt.subplot(2,3,1)\n",
        "sns.histplot(dataset['Tahun Pembuatan Alat'],kde=True, stat='density')\n",
        "plt.subplot(2,3,2)\n",
        "sns.histplot(dataset['Tahun Jual Alat'],kde=True, stat='density')\n",
        "plt.subplot(2,3,3)\n",
        "sns.histplot(dataset['Usia Alat'],kde=True, stat='density')\n",
        "plt.subplot(2,3,4)\n",
        "sns.histplot(dataset['Intensitas Penggunaan Selama Umur Alat'],kde=True, stat='density')\n",
        "plt.subplot(2,3,5)\n",
        "sns.histplot(dataset['Intensitas Penggunaan'],kde=True, stat='density')\n",
        "plt.subplot(2,3,6)\n",
        "sns.histplot(dataset['Market Value'],kde=True, stat='density')\n",
        "plt.show()"
      ],
      "metadata": {
        "colab": {
          "base_uri": "https://localhost:8080/",
          "height": 441
        },
        "id": "fUGekWqgrRn0",
        "outputId": "7ce211dd-7c13-4d15-eae0-bd4164db93e9"
      },
      "execution_count": null,
      "outputs": [
        {
          "output_type": "display_data",
          "data": {
            "text/plain": [
              "<Figure size 1500x1000 with 6 Axes>"
            ],
            "image/png": "[encoded data removed]"
          },
          "metadata": {}
        }
      ]
    },
    {
      "cell_type": "code",
      "source": [
        "x = dataset.iloc[:, :-1].values\n",
        "y = dataset.iloc[:, -1].values"
      ],
      "metadata": {
        "id": "jDnvxGWbxplJ"
      },
      "execution_count": null,
      "outputs": []
    },
    {
      "cell_type": "code",
      "source": [
        "print(x)"
      ],
      "metadata": {
        "colab": {
          "base_uri": "https://localhost:8080/"
        },
        "id": "shKFhW-fyG8t",
        "outputId": "795055a4-9fc5-479f-8914-8b0e79bc8253"
      },
      "execution_count": null,
      "outputs": [
        {
          "output_type": "stream",
          "name": "stdout",
          "text": [
            "[['Vibratory Roller' 'SV525D' 'SAKAI' ... 37000 5 'BELI BARU']\n",
            " ['Vibratory Roller' 'SV525D' 'SAKAI' ... 41760 5 'BELI BARU']\n",
            " ['Vibratory Roller' 'SV525D' 'SAKAI' ... 25038 5 'BELI BARU']\n",
            " ...\n",
            " ['Vibratory Roller' 'CA2500D' 'DYNAPAC' ... 555 3 'BELI BARU']\n",
            " ['Vibratory Roller' 'CA2500D' 'DYNAPAC' ... 2792 2 'BELI BEKAS']\n",
            " ['Tandem Roller' 'CC1300' 'DYNAPAC' ... 72 1 'BELI BEKAS']]\n"
          ]
        }
      ]
    },
    {
      "cell_type": "code",
      "source": [
        "print(y)"
      ],
      "metadata": {
        "colab": {
          "base_uri": "https://localhost:8080/"
        },
        "id": "XOo9DiVcyPox",
        "outputId": "d80d9bb2-02bf-41c4-d19d-27a61aa2160f"
      },
      "execution_count": null,
      "outputs": [
        {
          "output_type": "stream",
          "name": "stdout",
          "text": [
            "[ 717155000  498234000  566175000  694508000  315525000  603394000\n",
            "  603920000  377450000  566175000  286862000  400000000  120784000\n",
            "  543528000  754900000 1207840000  415195000 1132350000 1283330000\n",
            " 1132350000  792645000 1132350000  243392925 1152586050 1584177135\n",
            "  557960000  482715200 1160070375 1496865000 1431856153 1758816375\n",
            " 1012047750  974564500  749665000  284872700 1272335250 2020767750\n",
            " 1309726938 1721394750 1646551500 1422021750 1945924500 1833659625\n",
            " 2211511750 1386880250 1161980750 1908502875  350341253 1077742800\n",
            " 1047805500 1571708250 1571708250 1496865000  415499787  387882627\n",
            "  673589250  971809664  972962250  972299833  673929000  849470888\n",
            " 1571708250  553840050  646436119  464028150  679561741  230447021\n",
            "  261951375  642933455  823275750  751250000  198828578 1141299688\n",
            "  306857325 1251543795  198828578  182916903 1571708250  261951375\n",
            " 1010383875 1683973125  464597000  514586000  460160848  758387161\n",
            "  138981250  562012500 1161492500  142376500  575201060  980200000\n",
            "  942500000  867100000  525875000  360600000  186099650  873929125\n",
            "  899220000  539532000  655726211  517680954  460160848  786817500\n",
            "  711882500  405675000  500116190  751250000  579484200  730915990\n",
            "  232298500  899220000  861752500  420700000 1678544000 1131363750\n",
            "  392434595]\n"
          ]
        }
      ]
    },
    {
      "cell_type": "code",
      "source": [
        "sns.heatmap(dataset.corr(), annot=True, linewidths=2, linecolor= 'grey')\n",
        "plt.show()"
      ],
      "metadata": {
        "colab": {
          "base_uri": "https://localhost:8080/",
          "height": 555
        },
        "id": "P4fEbcv-3D1G",
        "outputId": "a06ac1d3-32c1-4935-fddd-8aa9e0ca1837"
      },
      "execution_count": null,
      "outputs": [
        {
          "output_type": "display_data",
          "data": {
            "text/plain": [
              "<Figure size 640x480 with 2 Axes>"
            ],
            "image/png": "[encoded data removed]"
          },
          "metadata": {}
        }
      ]
    },
    {
      "cell_type": "markdown",
      "source": [
        "Encoding Categorical Data"
      ],
      "metadata": {
        "id": "2oywnIABOAl4"
      }
    },
    {
      "cell_type": "code",
      "source": [
        "dataset.head()"
      ],
      "metadata": {
        "colab": {
          "base_uri": "https://localhost:8080/",
          "height": 409
        },
        "id": "ONZoml2HOFKW",
        "outputId": "47473e44-40ad-4f0d-fa04-92bbdfe056dc"
      },
      "execution_count": null,
      "outputs": [
        {
          "output_type": "execute_result",
          "data": {
            "text/plain": [
              "         Jenis Alat Tipe Alat Merk Alat  Usia Alat  Tahun Pembuatan Alat  \\\n",
              "0  Vibratory Roller    SV525D     SAKAI         10                  2013   \n",
              "1  Vibratory Roller    SV525D     SAKAI         10                  2013   \n",
              "2  Vibratory Roller    SV525D     SAKAI          9                  2013   \n",
              "3    Padfoot Roller   SV525TF     SAKAI          9                  2013   \n",
              "4     Tandem Roller   SW625-1     SAKAI          8                  2013   \n",
              "\n",
              "   Tahun Jual Alat  Intensitas Penggunaan  \\\n",
              "0             2023                   3700   \n",
              "1             2023                   4176   \n",
              "2             2022                   2782   \n",
              "3             2022                   4351   \n",
              "4             2021                   6502   \n",
              "\n",
              "   Intensitas Penggunaan Selama Umur Alat  Kondisi Alat Kepemilikan  \\\n",
              "0                                   37000             5   BELI BARU   \n",
              "1                                   41760             5   BELI BARU   \n",
              "2                                   25038             5   BELI BARU   \n",
              "3                                   39159             5   BELI BARU   \n",
              "4                                   52016             4   BELI BARU   \n",
              "\n",
              "   Market Value  \n",
              "0     717155000  \n",
              "1     498234000  \n",
              "2     566175000  \n",
              "3     694508000  \n",
              "4     315525000  "
            ],
            "text/html": [
              "\n",
              "  <div id=\"df-94ecd112-30ec-43e0-89d5-83a8d5800f75\">\n",
              "    <div class=\"colab-df-container\">\n",
              "      <div>\n",
              "<style scoped>\n",
              "    .dataframe tbody tr th:only-of-type {\n",
              "        vertical-align: middle;\n",
              "    }\n",
              "\n",
              "    .dataframe tbody tr th {\n",
              "        vertical-align: top;\n",
              "    }\n",
              "\n",
              "    .dataframe thead th {\n",
              "        text-align: right;\n",
              "    }\n",
              "</style>\n",
              "<table border=\"1\" class=\"dataframe\">\n",
              "  <thead>\n",
              "    <tr style=\"text-align: right;\">\n",
              "      <th></th>\n",
              "      <th>Jenis Alat</th>\n",
              "      <th>Tipe Alat</th>\n",
              "      <th>Merk Alat</th>\n",
              "      <th>Usia Alat</th>\n",
              "      <th>Tahun Pembuatan Alat</th>\n",
              "      <th>Tahun Jual Alat</th>\n",
              "      <th>Intensitas Penggunaan</th>\n",
              "      <th>Intensitas Penggunaan Selama Umur Alat</th>\n",
              "      <th>Kondisi Alat</th>\n",
              "      <th>Kepemilikan</th>\n",
              "      <th>Market Value</th>\n",
              "    </tr>\n",
              "  </thead>\n",
              "  <tbody>\n",
              "    <tr>\n",
              "      <th>0</th>\n",
              "      <td>Vibratory Roller</td>\n",
              "      <td>SV525D</td>\n",
              "      <td>SAKAI</td>\n",
              "      <td>10</td>\n",
              "      <td>2013</td>\n",
              "      <td>2023</td>\n",
              "      <td>3700</td>\n",
              "      <td>37000</td>\n",
              "      <td>5</td>\n",
              "      <td>BELI BARU</td>\n",
              "      <td>717155000</td>\n",
              "    </tr>\n",
              "    <tr>\n",
              "      <th>1</th>\n",
              "      <td>Vibratory Roller</td>\n",
              "      <td>SV525D</td>\n",
              "      <td>SAKAI</td>\n",
              "      <td>10</td>\n",
              "      <td>2013</td>\n",
              "      <td>2023</td>\n",
              "      <td>4176</td>\n",
              "      <td>41760</td>\n",
              "      <td>5</td>\n",
              "      <td>BELI BARU</td>\n",
              "      <td>498234000</td>\n",
              "    </tr>\n",
              "    <tr>\n",
              "      <th>2</th>\n",
              "      <td>Vibratory Roller</td>\n",
              "      <td>SV525D</td>\n",
              "      <td>SAKAI</td>\n",
              "      <td>9</td>\n",
              "      <td>2013</td>\n",
              "      <td>2022</td>\n",
              "      <td>2782</td>\n",
              "      <td>25038</td>\n",
              "      <td>5</td>\n",
              "      <td>BELI BARU</td>\n",
              "      <td>566175000</td>\n",
              "    </tr>\n",
              "    <tr>\n",
              "      <th>3</th>\n",
              "      <td>Padfoot Roller</td>\n",
              "      <td>SV525TF</td>\n",
              "      <td>SAKAI</td>\n",
              "      <td>9</td>\n",
              "      <td>2013</td>\n",
              "      <td>2022</td>\n",
              "      <td>4351</td>\n",
              "      <td>39159</td>\n",
              "      <td>5</td>\n",
              "      <td>BELI BARU</td>\n",
              "      <td>694508000</td>\n",
              "    </tr>\n",
              "    <tr>\n",
              "      <th>4</th>\n",
              "      <td>Tandem Roller</td>\n",
              "      <td>SW625-1</td>\n",
              "      <td>SAKAI</td>\n",
              "      <td>8</td>\n",
              "      <td>2013</td>\n",
              "      <td>2021</td>\n",
              "      <td>6502</td>\n",
              "      <td>52016</td>\n",
              "      <td>4</td>\n",
              "      <td>BELI BARU</td>\n",
              "      <td>315525000</td>\n",
              "    </tr>\n",
              "  </tbody>\n",
              "</table>\n",
              "</div>\n",
              "      <button class=\"colab-df-convert\" onclick=\"convertToInteractive('df-94ecd112-30ec-43e0-89d5-83a8d5800f75')\"\n",
              "              title=\"Convert this dataframe to an interactive table.\"\n",
              "              style=\"display:none;\">\n",
              "        \n",
              "  <svg xmlns=\"http://www.w3.org/2000/svg\" height=\"24px\"viewBox=\"0 0 24 24\"\n",
              "       width=\"24px\">\n",
              "    <path d=\"M0 0h24v24H0V0z\" fill=\"none\"/>\n",
              "    <path d=\"M18.56 5.44l.94 2.06.94-2.06 2.06-.94-2.06-.94-.94-2.06-.94 2.06-2.06.94zm-11 1L8.5 8.5l.94-2.06 2.06-.94-2.06-.94L8.5 2.5l-.94 2.06-2.06.94zm10 10l.94 2.06.94-2.06 2.06-.94-2.06-.94-.94-2.06-.94 2.06-2.06.94z\"/><path d=\"M17.41 7.96l-1.37-1.37c-.4-.4-.92-.59-1.43-.59-.52 0-1.04.2-1.43.59L10.3 9.45l-7.72 7.72c-.78.78-.78 2.05 0 2.83L4 21.41c.39.39.9.59 1.41.59.51 0 1.02-.2 1.41-.59l7.78-7.78 2.81-2.81c.8-.78.8-2.07 0-2.86zM5.41 20L4 18.59l7.72-7.72 1.47 1.35L5.41 20z\"/>\n",
              "  </svg>\n",
              "      </button>\n",
              "      \n",
              "  <style>\n",
              "    .colab-df-container {\n",
              "      display:flex;\n",
              "      flex-wrap:wrap;\n",
              "      gap: 12px;\n",
              "    }\n",
              "\n",
              "    .colab-df-convert {\n",
              "      background-color: #E8F0FE;\n",
              "      border: none;\n",
              "      border-radius: 50%;\n",
              "      cursor: pointer;\n",
              "      display: none;\n",
              "      fill: #1967D2;\n",
              "      height: 32px;\n",
              "      padding: 0 0 0 0;\n",
              "      width: 32px;\n",
              "    }\n",
              "\n",
              "    .colab-df-convert:hover {\n",
              "      background-color: #E2EBFA;\n",
              "      box-shadow: 0px 1px 2px rgba(60, 64, 67, 0.3), 0px 1px 3px 1px rgba(60, 64, 67, 0.15);\n",
              "      fill: #174EA6;\n",
              "    }\n",
              "\n",
              "    [theme=dark] .colab-df-convert {\n",
              "      background-color: #3B4455;\n",
              "      fill: #D2E3FC;\n",
              "    }\n",
              "\n",
              "    [theme=dark] .colab-df-convert:hover {\n",
              "      background-color: #434B5C;\n",
              "      box-shadow: 0px 1px 3px 1px rgba(0, 0, 0, 0.15);\n",
              "      filter: drop-shadow(0px 1px 2px rgba(0, 0, 0, 0.3));\n",
              "      fill: #FFFFFF;\n",
              "    }\n",
              "  </style>\n",
              "\n",
              "      <script>\n",
              "        const buttonEl =\n",
              "          document.querySelector('#df-94ecd112-30ec-43e0-89d5-83a8d5800f75 button.colab-df-convert');\n",
              "        buttonEl.style.display =\n",
              "          google.colab.kernel.accessAllowed ? 'block' : 'none';\n",
              "\n",
              "        async function convertToInteractive(key) {\n",
              "          const element = document.querySelector('#df-94ecd112-30ec-43e0-89d5-83a8d5800f75');\n",
              "          const dataTable =\n",
              "            await google.colab.kernel.invokeFunction('convertToInteractive',\n",
              "                                                     [key], {});\n",
              "          if (!dataTable) return;\n",
              "\n",
              "          const docLinkHtml = 'Like what you see? Visit the ' +\n",
              "            '<a target=\"_blank\" href=https://colab.research.google.com/notebooks/data_table.ipynb>data table notebook</a>'\n",
              "            + ' to learn more about interactive tables.';\n",
              "          element.innerHTML = '';\n",
              "          dataTable['output_type'] = 'display_data';\n",
              "          await google.colab.output.renderOutput(dataTable, element);\n",
              "          const docLink = document.createElement('div');\n",
              "          docLink.innerHTML = docLinkHtml;\n",
              "          element.appendChild(docLink);\n",
              "        }\n",
              "      </script>\n",
              "    </div>\n",
              "  </div>\n",
              "  "
            ]
          },
          "metadata": {},
          "execution_count": 10
        }
      ]
    },
    {
      "cell_type": "code",
      "source": [
        "x = pd.get_dummies(dataset,columns= ['Jenis Alat', 'Tipe Alat', 'Merk Alat', 'Kepemilikan'], drop_first = True)"
      ],
      "metadata": {
        "id": "GsgQEsTRQmy8"
      },
      "execution_count": null,
      "outputs": []
    },
    {
      "cell_type": "code",
      "source": [
        "print(x)"
      ],
      "metadata": {
        "colab": {
          "base_uri": "https://localhost:8080/"
        },
        "id": "g7xLt_Q8S0dL",
        "outputId": "94fee4b8-780c-49f9-c8b2-2310cea7d7a0"
      },
      "execution_count": null,
      "outputs": [
        {
          "output_type": "stream",
          "name": "stdout",
          "text": [
            "     Usia Alat  Tahun Pembuatan Alat  Tahun Jual Alat  Intensitas Penggunaan  \\\n",
            "0           10                  2013             2023                   3700   \n",
            "1           10                  2013             2023                   4176   \n",
            "2            9                  2013             2022                   2782   \n",
            "3            9                  2013             2022                   4351   \n",
            "4            8                  2013             2021                   6502   \n",
            "..         ...                   ...              ...                    ...   \n",
            "110          5                  2017             2022                   2312   \n",
            "111          4                  2018             2022                   2291   \n",
            "112          5                  2018             2023                    111   \n",
            "113          4                  2019             2023                    698   \n",
            "114          2                  2020             2022                     36   \n",
            "\n",
            "     Intensitas Penggunaan Selama Umur Alat  Kondisi Alat  Market Value  \\\n",
            "0                                     37000             5     717155000   \n",
            "1                                     41760             5     498234000   \n",
            "2                                     25038             5     566175000   \n",
            "3                                     39159             5     694508000   \n",
            "4                                     52016             4     315525000   \n",
            "..                                      ...           ...           ...   \n",
            "110                                   11560             3     861752500   \n",
            "111                                    9164             2     420700000   \n",
            "112                                     555             3    1678544000   \n",
            "113                                    2792             2    1131363750   \n",
            "114                                      72             1     392434595   \n",
            "\n",
            "     Jenis Alat_Tandem Roller  Jenis Alat_Vibratory Roller  \\\n",
            "0                           0                            1   \n",
            "1                           0                            1   \n",
            "2                           0                            1   \n",
            "3                           0                            0   \n",
            "4                           1                            0   \n",
            "..                        ...                          ...   \n",
            "110                         0                            1   \n",
            "111                         0                            1   \n",
            "112                         0                            1   \n",
            "113                         0                            1   \n",
            "114                         1                            0   \n",
            "\n",
            "     Tipe Alat_BW141AD-50  ...  Tipe Alat_CS56B  Tipe Alat_CS64B  \\\n",
            "0                       0  ...                0                0   \n",
            "1                       0  ...                0                0   \n",
            "2                       0  ...                0                0   \n",
            "3                       0  ...                0                0   \n",
            "4                       0  ...                0                0   \n",
            "..                    ...  ...              ...              ...   \n",
            "110                     0  ...                0                0   \n",
            "111                     0  ...                0                0   \n",
            "112                     0  ...                0                0   \n",
            "113                     0  ...                0                0   \n",
            "114                     0  ...                0                0   \n",
            "\n",
            "     Tipe Alat_SV525D  Tipe Alat_SV525TF  Tipe Alat_SV526  Tipe Alat_SW625-1  \\\n",
            "0                   1                  0                0                  0   \n",
            "1                   1                  0                0                  0   \n",
            "2                   1                  0                0                  0   \n",
            "3                   0                  1                0                  0   \n",
            "4                   0                  0                0                  1   \n",
            "..                ...                ...              ...                ...   \n",
            "110                 0                  0                0                  0   \n",
            "111                 0                  0                0                  0   \n",
            "112                 0                  0                0                  0   \n",
            "113                 0                  0                0                  0   \n",
            "114                 0                  0                0                  0   \n",
            "\n",
            "     Merk Alat_CAT  Merk Alat_DYNAPAC  Merk Alat_SAKAI  Kepemilikan_BELI BEKAS  \n",
            "0                0                  0                1                       0  \n",
            "1                0                  0                1                       0  \n",
            "2                0                  0                1                       0  \n",
            "3                0                  0                1                       0  \n",
            "4                0                  0                1                       0  \n",
            "..             ...                ...              ...                     ...  \n",
            "110              0                  1                0                       0  \n",
            "111              0                  1                0                       1  \n",
            "112              0                  1                0                       0  \n",
            "113              0                  1                0                       1  \n",
            "114              0                  1                0                       1  \n",
            "\n",
            "[115 rows x 38 columns]\n"
          ]
        }
      ]
    },
    {
      "cell_type": "code",
      "source": [
        "x.head()"
      ],
      "metadata": {
        "id": "bVCSwQ2vTIar",
        "colab": {
          "base_uri": "https://localhost:8080/",
          "height": 351
        },
        "outputId": "15ce2802-91bc-44e2-f70d-7c02dcbd21fa"
      },
      "execution_count": null,
      "outputs": [
        {
          "output_type": "execute_result",
          "data": {
            "text/plain": [
              "   Usia Alat  Tahun Pembuatan Alat  Tahun Jual Alat  Intensitas Penggunaan  \\\n",
              "0         10                  2013             2023                   3700   \n",
              "1         10                  2013             2023                   4176   \n",
              "2          9                  2013             2022                   2782   \n",
              "3          9                  2013             2022                   4351   \n",
              "4          8                  2013             2021                   6502   \n",
              "\n",
              "   Intensitas Penggunaan Selama Umur Alat  Kondisi Alat  Market Value  \\\n",
              "0                                   37000             5     717155000   \n",
              "1                                   41760             5     498234000   \n",
              "2                                   25038             5     566175000   \n",
              "3                                   39159             5     694508000   \n",
              "4                                   52016             4     315525000   \n",
              "\n",
              "   Jenis Alat_Tandem Roller  Jenis Alat_Vibratory Roller  \\\n",
              "0                         0                            1   \n",
              "1                         0                            1   \n",
              "2                         0                            1   \n",
              "3                         0                            0   \n",
              "4                         1                            0   \n",
              "\n",
              "   Tipe Alat_BW141AD-50  ...  Tipe Alat_CS56B  Tipe Alat_CS64B  \\\n",
              "0                     0  ...                0                0   \n",
              "1                     0  ...                0                0   \n",
              "2                     0  ...                0                0   \n",
              "3                     0  ...                0                0   \n",
              "4                     0  ...                0                0   \n",
              "\n",
              "   Tipe Alat_SV525D  Tipe Alat_SV525TF  Tipe Alat_SV526  Tipe Alat_SW625-1  \\\n",
              "0                 1                  0                0                  0   \n",
              "1                 1                  0                0                  0   \n",
              "2                 1                  0                0                  0   \n",
              "3                 0                  1                0                  0   \n",
              "4                 0                  0                0                  1   \n",
              "\n",
              "   Merk Alat_CAT  Merk Alat_DYNAPAC  Merk Alat_SAKAI  Kepemilikan_BELI BEKAS  \n",
              "0              0                  0                1                       0  \n",
              "1              0                  0                1                       0  \n",
              "2              0                  0                1                       0  \n",
              "3              0                  0                1                       0  \n",
              "4              0                  0                1                       0  \n",
              "\n",
              "[5 rows x 38 columns]"
            ],
            "text/html": [
              "\n",
              "  <div id=\"df-a7928528-f03a-4f70-ae46-c781e3410e66\">\n",
              "    <div class=\"colab-df-container\">\n",
              "      <div>\n",
              "<style scoped>\n",
              "    .dataframe tbody tr th:only-of-type {\n",
              "        vertical-align: middle;\n",
              "    }\n",
              "\n",
              "    .dataframe tbody tr th {\n",
              "        vertical-align: top;\n",
              "    }\n",
              "\n",
              "    .dataframe thead th {\n",
              "        text-align: right;\n",
              "    }\n",
              "</style>\n",
              "<table border=\"1\" class=\"dataframe\">\n",
              "  <thead>\n",
              "    <tr style=\"text-align: right;\">\n",
              "      <th></th>\n",
              "      <th>Usia Alat</th>\n",
              "      <th>Tahun Pembuatan Alat</th>\n",
              "      <th>Tahun Jual Alat</th>\n",
              "      <th>Intensitas Penggunaan</th>\n",
              "      <th>Intensitas Penggunaan Selama Umur Alat</th>\n",
              "      <th>Kondisi Alat</th>\n",
              "      <th>Market Value</th>\n",
              "      <th>Jenis Alat_Tandem Roller</th>\n",
              "      <th>Jenis Alat_Vibratory Roller</th>\n",
              "      <th>Tipe Alat_BW141AD-50</th>\n",
              "      <th>...</th>\n",
              "      <th>Tipe Alat_CS56B</th>\n",
              "      <th>Tipe Alat_CS64B</th>\n",
              "      <th>Tipe Alat_SV525D</th>\n",
              "      <th>Tipe Alat_SV525TF</th>\n",
              "      <th>Tipe Alat_SV526</th>\n",
              "      <th>Tipe Alat_SW625-1</th>\n",
              "      <th>Merk Alat_CAT</th>\n",
              "      <th>Merk Alat_DYNAPAC</th>\n",
              "      <th>Merk Alat_SAKAI</th>\n",
              "      <th>Kepemilikan_BELI BEKAS</th>\n",
              "    </tr>\n",
              "  </thead>\n",
              "  <tbody>\n",
              "    <tr>\n",
              "      <th>0</th>\n",
              "      <td>10</td>\n",
              "      <td>2013</td>\n",
              "      <td>2023</td>\n",
              "      <td>3700</td>\n",
              "      <td>37000</td>\n",
              "      <td>5</td>\n",
              "      <td>717155000</td>\n",
              "      <td>0</td>\n",
              "      <td>1</td>\n",
              "      <td>0</td>\n",
              "      <td>...</td>\n",
              "      <td>0</td>\n",
              "      <td>0</td>\n",
              "      <td>1</td>\n",
              "      <td>0</td>\n",
              "      <td>0</td>\n",
              "      <td>0</td>\n",
              "      <td>0</td>\n",
              "      <td>0</td>\n",
              "      <td>1</td>\n",
              "      <td>0</td>\n",
              "    </tr>\n",
              "    <tr>\n",
              "      <th>1</th>\n",
              "      <td>10</td>\n",
              "      <td>2013</td>\n",
              "      <td>2023</td>\n",
              "      <td>4176</td>\n",
              "      <td>41760</td>\n",
              "      <td>5</td>\n",
              "      <td>498234000</td>\n",
              "      <td>0</td>\n",
              "      <td>1</td>\n",
              "      <td>0</td>\n",
              "      <td>...</td>\n",
              "      <td>0</td>\n",
              "      <td>0</td>\n",
              "      <td>1</td>\n",
              "      <td>0</td>\n",
              "      <td>0</td>\n",
              "      <td>0</td>\n",
              "      <td>0</td>\n",
              "      <td>0</td>\n",
              "      <td>1</td>\n",
              "      <td>0</td>\n",
              "    </tr>\n",
              "    <tr>\n",
              "      <th>2</th>\n",
              "      <td>9</td>\n",
              "      <td>2013</td>\n",
              "      <td>2022</td>\n",
              "      <td>2782</td>\n",
              "      <td>25038</td>\n",
              "      <td>5</td>\n",
              "      <td>566175000</td>\n",
              "      <td>0</td>\n",
              "      <td>1</td>\n",
              "      <td>0</td>\n",
              "      <td>...</td>\n",
              "      <td>0</td>\n",
              "      <td>0</td>\n",
              "      <td>1</td>\n",
              "      <td>0</td>\n",
              "      <td>0</td>\n",
              "      <td>0</td>\n",
              "      <td>0</td>\n",
              "      <td>0</td>\n",
              "      <td>1</td>\n",
              "      <td>0</td>\n",
              "    </tr>\n",
              "    <tr>\n",
              "      <th>3</th>\n",
              "      <td>9</td>\n",
              "      <td>2013</td>\n",
              "      <td>2022</td>\n",
              "      <td>4351</td>\n",
              "      <td>39159</td>\n",
              "      <td>5</td>\n",
              "      <td>694508000</td>\n",
              "      <td>0</td>\n",
              "      <td>0</td>\n",
              "      <td>0</td>\n",
              "      <td>...</td>\n",
              "      <td>0</td>\n",
              "      <td>0</td>\n",
              "      <td>0</td>\n",
              "      <td>1</td>\n",
              "      <td>0</td>\n",
              "      <td>0</td>\n",
              "      <td>0</td>\n",
              "      <td>0</td>\n",
              "      <td>1</td>\n",
              "      <td>0</td>\n",
              "    </tr>\n",
              "    <tr>\n",
              "      <th>4</th>\n",
              "      <td>8</td>\n",
              "      <td>2013</td>\n",
              "      <td>2021</td>\n",
              "      <td>6502</td>\n",
              "      <td>52016</td>\n",
              "      <td>4</td>\n",
              "      <td>315525000</td>\n",
              "      <td>1</td>\n",
              "      <td>0</td>\n",
              "      <td>0</td>\n",
              "      <td>...</td>\n",
              "      <td>0</td>\n",
              "      <td>0</td>\n",
              "      <td>0</td>\n",
              "      <td>0</td>\n",
              "      <td>0</td>\n",
              "      <td>1</td>\n",
              "      <td>0</td>\n",
              "      <td>0</td>\n",
              "      <td>1</td>\n",
              "      <td>0</td>\n",
              "    </tr>\n",
              "  </tbody>\n",
              "</table>\n",
              "<p>5 rows × 38 columns</p>\n",
              "</div>\n",
              "      <button class=\"colab-df-convert\" onclick=\"convertToInteractive('df-a7928528-f03a-4f70-ae46-c781e3410e66')\"\n",
              "              title=\"Convert this dataframe to an interactive table.\"\n",
              "              style=\"display:none;\">\n",
              "        \n",
              "  <svg xmlns=\"http://www.w3.org/2000/svg\" height=\"24px\"viewBox=\"0 0 24 24\"\n",
              "       width=\"24px\">\n",
              "    <path d=\"M0 0h24v24H0V0z\" fill=\"none\"/>\n",
              "    <path d=\"M18.56 5.44l.94 2.06.94-2.06 2.06-.94-2.06-.94-.94-2.06-.94 2.06-2.06.94zm-11 1L8.5 8.5l.94-2.06 2.06-.94-2.06-.94L8.5 2.5l-.94 2.06-2.06.94zm10 10l.94 2.06.94-2.06 2.06-.94-2.06-.94-.94-2.06-.94 2.06-2.06.94z\"/><path d=\"M17.41 7.96l-1.37-1.37c-.4-.4-.92-.59-1.43-.59-.52 0-1.04.2-1.43.59L10.3 9.45l-7.72 7.72c-.78.78-.78 2.05 0 2.83L4 21.41c.39.39.9.59 1.41.59.51 0 1.02-.2 1.41-.59l7.78-7.78 2.81-2.81c.8-.78.8-2.07 0-2.86zM5.41 20L4 18.59l7.72-7.72 1.47 1.35L5.41 20z\"/>\n",
              "  </svg>\n",
              "      </button>\n",
              "      \n",
              "  <style>\n",
              "    .colab-df-container {\n",
              "      display:flex;\n",
              "      flex-wrap:wrap;\n",
              "      gap: 12px;\n",
              "    }\n",
              "\n",
              "    .colab-df-convert {\n",
              "      background-color: #E8F0FE;\n",
              "      border: none;\n",
              "      border-radius: 50%;\n",
              "      cursor: pointer;\n",
              "      display: none;\n",
              "      fill: #1967D2;\n",
              "      height: 32px;\n",
              "      padding: 0 0 0 0;\n",
              "      width: 32px;\n",
              "    }\n",
              "\n",
              "    .colab-df-convert:hover {\n",
              "      background-color: #E2EBFA;\n",
              "      box-shadow: 0px 1px 2px rgba(60, 64, 67, 0.3), 0px 1px 3px 1px rgba(60, 64, 67, 0.15);\n",
              "      fill: #174EA6;\n",
              "    }\n",
              "\n",
              "    [theme=dark] .colab-df-convert {\n",
              "      background-color: #3B4455;\n",
              "      fill: #D2E3FC;\n",
              "    }\n",
              "\n",
              "    [theme=dark] .colab-df-convert:hover {\n",
              "      background-color: #434B5C;\n",
              "      box-shadow: 0px 1px 3px 1px rgba(0, 0, 0, 0.15);\n",
              "      filter: drop-shadow(0px 1px 2px rgba(0, 0, 0, 0.3));\n",
              "      fill: #FFFFFF;\n",
              "    }\n",
              "  </style>\n",
              "\n",
              "      <script>\n",
              "        const buttonEl =\n",
              "          document.querySelector('#df-a7928528-f03a-4f70-ae46-c781e3410e66 button.colab-df-convert');\n",
              "        buttonEl.style.display =\n",
              "          google.colab.kernel.accessAllowed ? 'block' : 'none';\n",
              "\n",
              "        async function convertToInteractive(key) {\n",
              "          const element = document.querySelector('#df-a7928528-f03a-4f70-ae46-c781e3410e66');\n",
              "          const dataTable =\n",
              "            await google.colab.kernel.invokeFunction('convertToInteractive',\n",
              "                                                     [key], {});\n",
              "          if (!dataTable) return;\n",
              "\n",
              "          const docLinkHtml = 'Like what you see? Visit the ' +\n",
              "            '<a target=\"_blank\" href=https://colab.research.google.com/notebooks/data_table.ipynb>data table notebook</a>'\n",
              "            + ' to learn more about interactive tables.';\n",
              "          element.innerHTML = '';\n",
              "          dataTable['output_type'] = 'display_data';\n",
              "          await google.colab.output.renderOutput(dataTable, element);\n",
              "          const docLink = document.createElement('div');\n",
              "          docLink.innerHTML = docLinkHtml;\n",
              "          element.appendChild(docLink);\n",
              "        }\n",
              "      </script>\n",
              "    </div>\n",
              "  </div>\n",
              "  "
            ]
          },
          "metadata": {},
          "execution_count": 13
        }
      ]
    },
    {
      "cell_type": "markdown",
      "source": [
        "Splitting The Dataset Into Training Test Set"
      ],
      "metadata": {
        "id": "IgVhw2jMTx0F"
      }
    },
    {
      "cell_type": "code",
      "source": [
        "from sklearn.model_selection import train_test_split\n",
        "x_train, x_test, y_train, y_test = train_test_split(x, y, test_size = 0.2, random_state = 1)"
      ],
      "metadata": {
        "id": "0F-EWTjYT2tz"
      },
      "execution_count": null,
      "outputs": []
    },
    {
      "cell_type": "code",
      "source": [
        "print(x_train)"
      ],
      "metadata": {
        "colab": {
          "base_uri": "https://localhost:8080/"
        },
        "id": "N4GQtjjFVA41",
        "outputId": "e93200ee-2ad3-46c8-f65a-ecb8b610299d"
      },
      "execution_count": null,
      "outputs": [
        {
          "output_type": "stream",
          "name": "stdout",
          "text": [
            "     Usia Alat  Tahun Pembuatan Alat  Tahun Jual Alat  Intensitas Penggunaan  \\\n",
            "54           9                  2013             2022                   4763   \n",
            "92           7                  2015             2022                   3913   \n",
            "33           7                  2016             2023                   2655   \n",
            "67           6                  2016             2022                   4585   \n",
            "48           2                  2019             2021                   2200   \n",
            "..         ...                   ...              ...                    ...   \n",
            "9            6                  2015             2021                   3031   \n",
            "72           5                  2017             2022                   2582   \n",
            "12           6                  2016             2022                   1716   \n",
            "107          6                  2017             2023                   4282   \n",
            "37           4                  2018             2022                   2051   \n",
            "\n",
            "     Intensitas Penggunaan Selama Umur Alat  Kondisi Alat  Market Value  \\\n",
            "54                                    42867             5     673589250   \n",
            "92                                    27391             4     525875000   \n",
            "33                                    18585             4     284872700   \n",
            "67                                    27510             3     642933455   \n",
            "48                                     4400             1    1047805500   \n",
            "..                                      ...           ...           ...   \n",
            "9                                     18186             3     286862000   \n",
            "72                                    12910             3     306857325   \n",
            "12                                    10296             3     543528000   \n",
            "107                                   25692             3     730915990   \n",
            "37                                     8204             2    1721394750   \n",
            "\n",
            "     Jenis Alat_Tandem Roller  Jenis Alat_Vibratory Roller  \\\n",
            "54                          0                            0   \n",
            "92                          0                            1   \n",
            "33                          1                            0   \n",
            "67                          0                            1   \n",
            "48                          1                            0   \n",
            "..                        ...                          ...   \n",
            "9                           1                            0   \n",
            "72                          1                            0   \n",
            "12                          1                            0   \n",
            "107                         0                            0   \n",
            "37                          0                            1   \n",
            "\n",
            "     Tipe Alat_BW141AD-50  ...  Tipe Alat_CS56B  Tipe Alat_CS64B  \\\n",
            "54                      0  ...                0                0   \n",
            "92                      0  ...                0                0   \n",
            "33                      0  ...                0                0   \n",
            "67                      0  ...                0                0   \n",
            "48                      0  ...                0                0   \n",
            "..                    ...  ...              ...              ...   \n",
            "9                       0  ...                0                0   \n",
            "72                      1  ...                0                0   \n",
            "12                      0  ...                0                0   \n",
            "107                     0  ...                0                0   \n",
            "37                      0  ...                0                0   \n",
            "\n",
            "     Tipe Alat_SV525D  Tipe Alat_SV525TF  Tipe Alat_SV526  Tipe Alat_SW625-1  \\\n",
            "54                  0                  0                0                  0   \n",
            "92                  0                  0                0                  0   \n",
            "33                  0                  0                0                  0   \n",
            "67                  0                  0                0                  0   \n",
            "48                  0                  0                0                  0   \n",
            "..                ...                ...              ...                ...   \n",
            "9                   0                  0                0                  1   \n",
            "72                  0                  0                0                  0   \n",
            "12                  0                  0                0                  1   \n",
            "107                 0                  0                0                  0   \n",
            "37                  0                  0                0                  0   \n",
            "\n",
            "     Merk Alat_CAT  Merk Alat_DYNAPAC  Merk Alat_SAKAI  Kepemilikan_BELI BEKAS  \n",
            "54               0                  0                0                       0  \n",
            "92               0                  1                0                       0  \n",
            "33               1                  0                0                       0  \n",
            "67               0                  0                0                       0  \n",
            "48               1                  0                0                       1  \n",
            "..             ...                ...              ...                     ...  \n",
            "9                0                  0                1                       0  \n",
            "72               0                  0                0                       0  \n",
            "12               0                  0                1                       0  \n",
            "107              0                  1                0                       0  \n",
            "37               1                  0                0                       1  \n",
            "\n",
            "[92 rows x 38 columns]\n"
          ]
        }
      ]
    },
    {
      "cell_type": "code",
      "source": [
        "print(x_test)"
      ],
      "metadata": {
        "colab": {
          "base_uri": "https://localhost:8080/"
        },
        "id": "21w2YD9CVBSM",
        "outputId": "b886565d-b60b-4f1b-c638-bcce033155d8"
      },
      "execution_count": null,
      "outputs": [
        {
          "output_type": "stream",
          "name": "stdout",
          "text": [
            "     Usia Alat  Tahun Pembuatan Alat  Tahun Jual Alat  Intensitas Penggunaan  \\\n",
            "94           7                  2015             2022                   1381   \n",
            "44           5                  2018             2023                   3435   \n",
            "56           9                  2013             2022                   1564   \n",
            "83           9                  2013             2022                   2486   \n",
            "69           6                  2017             2023                   2259   \n",
            "106          5                  2017             2022                   1676   \n",
            "73           5                  2017             2022                   2667   \n",
            "58           9                  2013             2022                   4763   \n",
            "35           5                  2017             2022                   1228   \n",
            "38           4                  2018             2022                   1704   \n",
            "65           7                  2015             2022                   1449   \n",
            "95           7                  2015             2022                   2748   \n",
            "2            9                  2013             2022                   2782   \n",
            "77           4                  2019             2023                    704   \n",
            "108          5                  2017             2022                   1583   \n",
            "53           9                  2013             2022                   4635   \n",
            "101          7                  2015             2022                   3364   \n",
            "98           7                  2015             2022                    815   \n",
            "93           7                  2015             2022                    616   \n",
            "42           4                  2019             2023                   2204   \n",
            "109          5                  2017             2022                   1157   \n",
            "17           4                  2018             2022                   1830   \n",
            "113          4                  2019             2023                    698   \n",
            "\n",
            "     Intensitas Penggunaan Selama Umur Alat  Kondisi Alat  Market Value  \\\n",
            "94                                     9667             4     186099650   \n",
            "44                                    17175             3    1161980750   \n",
            "56                                    14076             5     972962250   \n",
            "83                                    22374             5     758387161   \n",
            "69                                    13554             3     751250000   \n",
            "106                                    8380             3     579484200   \n",
            "73                                    13335             3    1251543795   \n",
            "58                                    42867             5     673929000   \n",
            "35                                     6140             3    2020767750   \n",
            "38                                     6816             2    1646551500   \n",
            "65                                    10143             4     230447021   \n",
            "95                                    19236             4     873929125   \n",
            "2                                     25038             5     566175000   \n",
            "77                                     2816             2     261951375   \n",
            "108                                    7915             3     232298500   \n",
            "53                                    41715             5     387882627   \n",
            "101                                   23548             4     786817500   \n",
            "98                                     5705             4     655726211   \n",
            "93                                     4312             4     360600000   \n",
            "42                                     8816             2    2211511750   \n",
            "109                                    5785             3     899220000   \n",
            "17                                     7320             2    1283330000   \n",
            "113                                    2792             2    1131363750   \n",
            "\n",
            "     Jenis Alat_Tandem Roller  Jenis Alat_Vibratory Roller  \\\n",
            "94                          1                            0   \n",
            "44                          1                            0   \n",
            "56                          0                            1   \n",
            "83                          0                            0   \n",
            "69                          0                            0   \n",
            "106                         0                            1   \n",
            "73                          0                            1   \n",
            "58                          0                            1   \n",
            "35                          0                            0   \n",
            "38                          0                            1   \n",
            "65                          1                            0   \n",
            "95                          0                            0   \n",
            "2                           0                            1   \n",
            "77                          1                            0   \n",
            "108                         1                            0   \n",
            "53                          1                            0   \n",
            "101                         0                            1   \n",
            "98                          0                            1   \n",
            "93                          1                            0   \n",
            "42                          0                            1   \n",
            "109                         0                            1   \n",
            "17                          0                            0   \n",
            "113                         0                            1   \n",
            "\n",
            "     Tipe Alat_BW141AD-50  ...  Tipe Alat_CS56B  Tipe Alat_CS64B  \\\n",
            "94                      0  ...                0                0   \n",
            "44                      0  ...                0                0   \n",
            "56                      0  ...                0                0   \n",
            "83                      0  ...                0                0   \n",
            "69                      0  ...                0                0   \n",
            "106                     0  ...                0                0   \n",
            "73                      0  ...                0                0   \n",
            "58                      0  ...                0                0   \n",
            "35                      0  ...                0                0   \n",
            "38                      0  ...                0                0   \n",
            "65                      0  ...                0                0   \n",
            "95                      0  ...                0                0   \n",
            "2                       0  ...                0                0   \n",
            "77                      0  ...                0                0   \n",
            "108                     0  ...                0                0   \n",
            "53                      1  ...                0                0   \n",
            "101                     0  ...                0                0   \n",
            "98                      0  ...                0                0   \n",
            "93                      0  ...                0                0   \n",
            "42                      0  ...                0                1   \n",
            "109                     0  ...                0                0   \n",
            "17                      0  ...                0                0   \n",
            "113                     0  ...                0                0   \n",
            "\n",
            "     Tipe Alat_SV525D  Tipe Alat_SV525TF  Tipe Alat_SV526  Tipe Alat_SW625-1  \\\n",
            "94                  0                  0                0                  0   \n",
            "44                  0                  0                0                  0   \n",
            "56                  0                  0                0                  0   \n",
            "83                  0                  0                0                  0   \n",
            "69                  0                  0                0                  0   \n",
            "106                 0                  0                0                  0   \n",
            "73                  0                  0                0                  0   \n",
            "58                  0                  0                0                  0   \n",
            "35                  0                  0                0                  0   \n",
            "38                  0                  0                0                  0   \n",
            "65                  0                  0                0                  0   \n",
            "95                  0                  0                0                  0   \n",
            "2                   1                  0                0                  0   \n",
            "77                  0                  0                0                  0   \n",
            "108                 0                  0                0                  0   \n",
            "53                  0                  0                0                  0   \n",
            "101                 0                  0                0                  0   \n",
            "98                  0                  0                0                  0   \n",
            "93                  0                  0                0                  0   \n",
            "42                  0                  0                0                  0   \n",
            "109                 0                  0                0                  0   \n",
            "17                  0                  1                0                  0   \n",
            "113                 0                  0                0                  0   \n",
            "\n",
            "     Merk Alat_CAT  Merk Alat_DYNAPAC  Merk Alat_SAKAI  Kepemilikan_BELI BEKAS  \n",
            "94               0                  1                0                       0  \n",
            "44               1                  0                0                       0  \n",
            "56               0                  0                0                       0  \n",
            "83               0                  1                0                       0  \n",
            "69               0                  0                0                       0  \n",
            "106              0                  1                0                       0  \n",
            "73               0                  0                0                       0  \n",
            "58               0                  0                0                       0  \n",
            "35               1                  0                0                       0  \n",
            "38               1                  0                0                       1  \n",
            "65               0                  0                0                       0  \n",
            "95               0                  1                0                       0  \n",
            "2                0                  0                1                       0  \n",
            "77               0                  0                0                       1  \n",
            "108              0                  1                0                       0  \n",
            "53               0                  0                0                       0  \n",
            "101              0                  1                0                       0  \n",
            "98               0                  1                0                       0  \n",
            "93               0                  1                0                       0  \n",
            "42               1                  0                0                       1  \n",
            "109              0                  1                0                       0  \n",
            "17               0                  0                1                       1  \n",
            "113              0                  1                0                       1  \n",
            "\n",
            "[23 rows x 38 columns]\n"
          ]
        }
      ]
    },
    {
      "cell_type": "code",
      "source": [
        "print(y_train)"
      ],
      "metadata": {
        "colab": {
          "base_uri": "https://localhost:8080/"
        },
        "id": "Exl5cVLgVBmH",
        "outputId": "2d32929c-283b-48b1-95cc-cb567f5fd239"
      },
      "execution_count": null,
      "outputs": [
        {
          "output_type": "stream",
          "name": "stdout",
          "text": [
            "[ 673589250  525875000  284872700  642933455 1047805500  350341253\n",
            "  867100000  974564500  971809664  849470888  400000000  749665000\n",
            "  405675000  792645000  392434595 1496865000 1309726938  942500000\n",
            " 1422021750  261951375  562012500  514586000 1945924500  460160848\n",
            "  646436119  899220000 1584177135 1272335250  198828578  460160848\n",
            "  315525000 1010383875  415195000  539532000 1833659625 1496865000\n",
            " 1908502875  751250000  415499787 1160070375 1678544000 1386880250\n",
            "  557960000  198828578  464597000 1571708250  243392925  694508000\n",
            "  711882500 1012047750  420700000 1077742800  575201060  566175000\n",
            " 1571708250  717155000  500116190  972299833 1152586050  553840050\n",
            "  464028150  377450000  861752500  754900000 1161492500  980200000\n",
            "  142376500  823275750  517680954 1207840000 1758816375 1431856153\n",
            "  120784000  138981250 1132350000 1132350000 1571708250  482715200\n",
            "  603920000 1141299688 1571708250  498234000 1132350000  679561741\n",
            " 1683973125  603394000  182916903  286862000  306857325  543528000\n",
            "  730915990 1721394750]\n"
          ]
        }
      ]
    },
    {
      "cell_type": "code",
      "source": [
        "print(y_test)"
      ],
      "metadata": {
        "colab": {
          "base_uri": "https://localhost:8080/"
        },
        "id": "cCIhEK5sVCGW",
        "outputId": "028f18a9-cadb-4bb5-8cb8-78ff62bc05dd"
      },
      "execution_count": null,
      "outputs": [
        {
          "output_type": "stream",
          "name": "stdout",
          "text": [
            "[ 186099650 1161980750  972962250  758387161  751250000  579484200\n",
            " 1251543795  673929000 2020767750 1646551500  230447021  873929125\n",
            "  566175000  261951375  232298500  387882627  786817500  655726211\n",
            "  360600000 2211511750  899220000 1283330000 1131363750]\n"
          ]
        }
      ]
    },
    {
      "cell_type": "markdown",
      "source": [
        "# Modified Decision Tree Process"
      ],
      "metadata": {
        "id": "ECxrIP7RakoY"
      }
    },
    {
      "cell_type": "code",
      "source": [
        "from sklearn.tree import DecisionTreeRegressor\n",
        "regressor = DecisionTreeRegressor(max_depth = None, random_state = 0)"
      ],
      "metadata": {
        "id": "C2H7MVEzaqDN"
      },
      "execution_count": null,
      "outputs": []
    },
    {
      "cell_type": "code",
      "source": [
        "regressor.fit(x_train, y_train)"
      ],
      "metadata": {
        "colab": {
          "base_uri": "https://localhost:8080/",
          "height": 74
        },
        "id": "TZyVUq7scUR-",
        "outputId": "4b90d3b3-3af8-41af-d58b-9aa378cda80e"
      },
      "execution_count": null,
      "outputs": [
        {
          "output_type": "execute_result",
          "data": {
            "text/plain": [
              "DecisionTreeRegressor(random_state=0)"
            ],
            "text/html": [
              "<style>#sk-container-id-1 {color: black;background-color: white;}#sk-container-id-1 pre{padding: 0;}#sk-container-id-1 div.sk-toggleable {background-color: white;}#sk-container-id-1 label.sk-toggleable__label {cursor: pointer;display: block;width: 100%;margin-bottom: 0;padding: 0.3em;box-sizing: border-box;text-align: center;}#sk-container-id-1 label.sk-toggleable__label-arrow:before {content: \"▸\";float: left;margin-right: 0.25em;color: #696969;}#sk-container-id-1 label.sk-toggleable__label-arrow:hover:before {color: black;}#sk-container-id-1 div.sk-estimator:hover label.sk-toggleable__label-arrow:before {color: black;}#sk-container-id-1 div.sk-toggleable__content {max-height: 0;max-width: 0;overflow: hidden;text-align: left;background-color: #f0f8ff;}#sk-container-id-1 div.sk-toggleable__content pre {margin: 0.2em;color: black;border-radius: 0.25em;background-color: #f0f8ff;}#sk-container-id-1 input.sk-toggleable__control:checked~div.sk-toggleable__content {max-height: 200px;max-width: 100%;overflow: auto;}#sk-container-id-1 input.sk-toggleable__control:checked~label.sk-toggleable__label-arrow:before {content: \"▾\";}#sk-container-id-1 div.sk-estimator input.sk-toggleable__control:checked~label.sk-toggleable__label {background-color: #d4ebff;}#sk-container-id-1 div.sk-label input.sk-toggleable__control:checked~label.sk-toggleable__label {background-color: #d4ebff;}#sk-container-id-1 input.sk-hidden--visually {border: 0;clip: rect(1px 1px 1px 1px);clip: rect(1px, 1px, 1px, 1px);height: 1px;margin: -1px;overflow: hidden;padding: 0;position: absolute;width: 1px;}#sk-container-id-1 div.sk-estimator {font-family: monospace;background-color: #f0f8ff;border: 1px dotted black;border-radius: 0.25em;box-sizing: border-box;margin-bottom: 0.5em;}#sk-container-id-1 div.sk-estimator:hover {background-color: #d4ebff;}#sk-container-id-1 div.sk-parallel-item::after {content: \"\";width: 100%;border-bottom: 1px solid gray;flex-grow: 1;}#sk-container-id-1 div.sk-label:hover label.sk-toggleable__label {background-color: #d4ebff;}#sk-container-id-1 div.sk-serial::before {content: \"\";position: absolute;border-left: 1px solid gray;box-sizing: border-box;top: 0;bottom: 0;left: 50%;z-index: 0;}#sk-container-id-1 div.sk-serial {display: flex;flex-direction: column;align-items: center;background-color: white;padding-right: 0.2em;padding-left: 0.2em;position: relative;}#sk-container-id-1 div.sk-item {position: relative;z-index: 1;}#sk-container-id-1 div.sk-parallel {display: flex;align-items: stretch;justify-content: center;background-color: white;position: relative;}#sk-container-id-1 div.sk-item::before, #sk-container-id-1 div.sk-parallel-item::before {content: \"\";position: absolute;border-left: 1px solid gray;box-sizing: border-box;top: 0;bottom: 0;left: 50%;z-index: -1;}#sk-container-id-1 div.sk-parallel-item {display: flex;flex-direction: column;z-index: 1;position: relative;background-color: white;}#sk-container-id-1 div.sk-parallel-item:first-child::after {align-self: flex-end;width: 50%;}#sk-container-id-1 div.sk-parallel-item:last-child::after {align-self: flex-start;width: 50%;}#sk-container-id-1 div.sk-parallel-item:only-child::after {width: 0;}#sk-container-id-1 div.sk-dashed-wrapped {border: 1px dashed gray;margin: 0 0.4em 0.5em 0.4em;box-sizing: border-box;padding-bottom: 0.4em;background-color: white;}#sk-container-id-1 div.sk-label label {font-family: monospace;font-weight: bold;display: inline-block;line-height: 1.2em;}#sk-container-id-1 div.sk-label-container {text-align: center;}#sk-container-id-1 div.sk-container {/* jupyter's `normalize.less` sets `[hidden] { display: none; }` but bootstrap.min.css set `[hidden] { display: none !important; }` so we also need the `!important` here to be able to override the default hidden behavior on the sphinx rendered scikit-learn.org. See: https://github.com/scikit-learn/scikit-learn/issues/21755 */display: inline-block !important;position: relative;}#sk-container-id-1 div.sk-text-repr-fallback {display: none;}</style><div id=\"sk-container-id-1\" class=\"sk-top-container\"><div class=\"sk-text-repr-fallback\"><pre>DecisionTreeRegressor(random_state=0)</pre><b>In a Jupyter environment, please rerun this cell to show the HTML representation or trust the notebook. <br />On GitHub, the HTML representation is unable to render, please try loading this page with nbviewer.org.</b></div><div class=\"sk-container\" hidden><div class=\"sk-item\"><div class=\"sk-estimator sk-toggleable\"><input class=\"sk-toggleable__control sk-hidden--visually\" id=\"sk-estimator-id-1\" type=\"checkbox\" checked><label for=\"sk-estimator-id-1\" class=\"sk-toggleable__label sk-toggleable__label-arrow\">DecisionTreeRegressor</label><div class=\"sk-toggleable__content\"><pre>DecisionTreeRegressor(random_state=0)</pre></div></div></div></div></div>"
            ]
          },
          "metadata": {},
          "execution_count": 20
        }
      ]
    },
    {
      "cell_type": "code",
      "source": [
        "importance = regressor.feature_importances_\n",
        "print(regressor.feature_importances_)\n",
        "feat_importances = pd.Series(regressor.feature_importances_, index= list(x_train.columns))\n",
        "feat_importances.nlargest(10).plot(kind='barh')\n",
        "plt.show()"
      ],
      "metadata": {
        "colab": {
          "base_uri": "https://localhost:8080/",
          "height": 510
        },
        "id": "5EYT8rmUHcnO",
        "outputId": "51130102-a9c0-4af6-e4b4-6bde72b8cde3"
      },
      "execution_count": null,
      "outputs": [
        {
          "output_type": "stream",
          "name": "stdout",
          "text": [
            "[0.00000000e+00 2.77233766e-04 1.71007454e-04 6.94715123e-04\n",
            " 6.41103019e-04 2.50530331e-05 9.97577484e-01 0.00000000e+00\n",
            " 8.31502453e-07 0.00000000e+00 0.00000000e+00 0.00000000e+00\n",
            " 8.61885027e-07 0.00000000e+00 0.00000000e+00 1.00646285e-05\n",
            " 0.00000000e+00 0.00000000e+00 5.59997057e-04 0.00000000e+00\n",
            " 8.72833056e-06 0.00000000e+00 3.48647319e-06 0.00000000e+00\n",
            " 0.00000000e+00 0.00000000e+00 0.00000000e+00 0.00000000e+00\n",
            " 0.00000000e+00 0.00000000e+00 0.00000000e+00 1.09957978e-05\n",
            " 0.00000000e+00 2.24455993e-09 0.00000000e+00 6.79512743e-07\n",
            " 1.77564939e-05 0.00000000e+00]\n"
          ]
        },
        {
          "output_type": "display_data",
          "data": {
            "text/plain": [
              "<Figure size 640x480 with 1 Axes>"
            ],
            "image/png": "[encoded data removed]"
          },
          "metadata": {}
        }
      ]
    },
    {
      "cell_type": "markdown",
      "source": [
        "Predict New Values"
      ],
      "metadata": {
        "id": "B2E0qnRHcrrB"
      }
    },
    {
      "cell_type": "code",
      "source": [
        "y_train_pred = regressor.predict(x_train)\n",
        "y_test_pred = regressor. predict(x_test)"
      ],
      "metadata": {
        "id": "uPgjJHU2cxmc"
      },
      "execution_count": null,
      "outputs": []
    },
    {
      "cell_type": "code",
      "source": [
        "y_test_pred"
      ],
      "metadata": {
        "colab": {
          "base_uri": "https://localhost:8080/"
        },
        "id": "CF7Cxq5VdUKd",
        "outputId": "2f0bdbc8-8f9b-4418-9126-938323a38a8a"
      },
      "execution_count": null,
      "outputs": [
        {
          "output_type": "execute_result",
          "data": {
            "text/plain": [
              "array([1.38981250e+08, 1.16007038e+09, 9.72299833e+08, 7.49665000e+08,\n",
              "       7.30915990e+08, 5.53840050e+08, 1.30972694e+09, 6.73589250e+08,\n",
              "       1.94592450e+09, 1.72139475e+09, 2.43392925e+08, 8.49470888e+08,\n",
              "       5.62012500e+08, 2.61951375e+08, 2.43392925e+08, 4.00000000e+08,\n",
              "       8.61752500e+08, 6.46436119e+08, 3.50341253e+08, 1.83365962e+09,\n",
              "       8.23275750e+08, 1.30972694e+09, 1.20784000e+09])"
            ]
          },
          "metadata": {},
          "execution_count": 22
        }
      ]
    },
    {
      "cell_type": "markdown",
      "source": [
        "Validation Score"
      ],
      "metadata": {
        "id": "xFveNfAMdzI3"
      }
    },
    {
      "cell_type": "code",
      "source": [
        "from sklearn.model_selection import cross_val_score\n",
        "score = cross_val_score(regressor, x, y)\n",
        "print(score)\n",
        "np.mean(score)"
      ],
      "metadata": {
        "colab": {
          "base_uri": "https://localhost:8080/"
        },
        "id": "U8YI8d6Hd1T_",
        "outputId": "4f041e6d-adb4-446d-f9bd-a18d655a4f47"
      },
      "execution_count": null,
      "outputs": [
        {
          "output_type": "stream",
          "name": "stdout",
          "text": [
            "[0.99156598 0.81626006 0.99195117 0.99413254 0.99031785]\n"
          ]
        },
        {
          "output_type": "execute_result",
          "data": {
            "text/plain": [
              "0.9568455194398817"
            ]
          },
          "metadata": {},
          "execution_count": 23
        }
      ]
    },
    {
      "cell_type": "code",
      "source": [
        "regressor.score(x_test, y_test)"
      ],
      "metadata": {
        "colab": {
          "base_uri": "https://localhost:8080/"
        },
        "id": "YXfhpK2YevpQ",
        "outputId": "766b58eb-20a2-4181-f0f4-4b056e4ea7ca"
      },
      "execution_count": null,
      "outputs": [
        {
          "output_type": "execute_result",
          "data": {
            "text/plain": [
              "0.972935733809797"
            ]
          },
          "metadata": {},
          "execution_count": 24
        }
      ]
    },
    {
      "cell_type": "markdown",
      "source": [
        "Hasil Perbandingan Prediksi dan Data Real"
      ],
      "metadata": {
        "id": "VCITpqe-gNg3"
      }
    },
    {
      "cell_type": "code",
      "source": [
        "y_pred = regressor.predict(x_test)\n",
        "data = {'Prediksi': y_pred, 'real' :y_test}\n",
        "result = pd.DataFrame(data)\n",
        "print(result)"
      ],
      "metadata": {
        "colab": {
          "base_uri": "https://localhost:8080/"
        },
        "id": "7Akjkn0cgQbT",
        "outputId": "9787a19c-eef2-4615-8fa4-3f14ee9966de"
      },
      "execution_count": null,
      "outputs": [
        {
          "output_type": "stream",
          "name": "stdout",
          "text": [
            "        Prediksi        real\n",
            "0   1.389812e+08   186099650\n",
            "1   1.160070e+09  1161980750\n",
            "2   9.722998e+08   972962250\n",
            "3   7.496650e+08   758387161\n",
            "4   7.309160e+08   751250000\n",
            "5   5.538400e+08   579484200\n",
            "6   1.309727e+09  1251543795\n",
            "7   6.735892e+08   673929000\n",
            "8   1.945924e+09  2020767750\n",
            "9   1.721395e+09  1646551500\n",
            "10  2.433929e+08   230447021\n",
            "11  8.494709e+08   873929125\n",
            "12  5.620125e+08   566175000\n",
            "13  2.619514e+08   261951375\n",
            "14  2.433929e+08   232298500\n",
            "15  4.000000e+08   387882627\n",
            "16  8.617525e+08   786817500\n",
            "17  6.464361e+08   655726211\n",
            "18  3.503413e+08   360600000\n",
            "19  1.833660e+09  2211511750\n",
            "20  8.232758e+08   899220000\n",
            "21  1.309727e+09  1283330000\n",
            "22  1.207840e+09  1131363750\n"
          ]
        }
      ]
    },
    {
      "cell_type": "markdown",
      "source": [
        "Error Value (MSE, MAPE, MAE, R2)"
      ],
      "metadata": {
        "id": "GJxGUDO1j-pr"
      }
    },
    {
      "cell_type": "code",
      "source": [
        "from sklearn.metrics import mean_squared_error, r2_score, mean_absolute_error, mean_absolute_percentage_error"
      ],
      "metadata": {
        "id": "STXeV07wkGTx"
      },
      "execution_count": null,
      "outputs": []
    },
    {
      "cell_type": "code",
      "source": [
        "mean_squared_error(y_test, y_test_pred)"
      ],
      "metadata": {
        "colab": {
          "base_uri": "https://localhost:8080/"
        },
        "id": "o9Wm_KG8kiDc",
        "outputId": "f86cfac0-9996-4d65-9fa3-7bd41ae0b02f"
      },
      "execution_count": null,
      "outputs": [
        {
          "output_type": "execute_result",
          "data": {
            "text/plain": [
              "7821949559565785.0"
            ]
          },
          "metadata": {},
          "execution_count": 27
        }
      ]
    },
    {
      "cell_type": "code",
      "source": [
        "r2_score(y_test, y_test_pred)"
      ],
      "metadata": {
        "colab": {
          "base_uri": "https://localhost:8080/"
        },
        "id": "PAY-RzmSk5WY",
        "outputId": "b3b9fb10-d576-40bc-bceb-7744a0e1645c"
      },
      "execution_count": null,
      "outputs": [
        {
          "output_type": "execute_result",
          "data": {
            "text/plain": [
              "0.972935733809797"
            ]
          },
          "metadata": {},
          "execution_count": 28
        }
      ]
    },
    {
      "cell_type": "code",
      "source": [
        "mean_absolute_error(y_test, y_test_pred)"
      ],
      "metadata": {
        "colab": {
          "base_uri": "https://localhost:8080/"
        },
        "id": "csYFUzFMk5Ml",
        "outputId": "b681456b-2320-4704-a7bb-31ba10f54af2"
      },
      "execution_count": null,
      "outputs": [
        {
          "output_type": "execute_result",
          "data": {
            "text/plain": [
              "44718815.08695652"
            ]
          },
          "metadata": {},
          "execution_count": 29
        }
      ]
    },
    {
      "cell_type": "code",
      "source": [
        "mean_absolute_percentage_error(y_test, y_test_pred)"
      ],
      "metadata": {
        "colab": {
          "base_uri": "https://localhost:8080/"
        },
        "id": "uIc6sMSfk5AD",
        "outputId": "937b24d6-1bff-497d-bdda-680c4d41c3b8"
      },
      "execution_count": null,
      "outputs": [
        {
          "output_type": "execute_result",
          "data": {
            "text/plain": [
              "0.048681221939862754"
            ]
          },
          "metadata": {},
          "execution_count": 30
        }
      ]
    },
    {
      "cell_type": "markdown",
      "source": [
        "Plotting Decision Tree"
      ],
      "metadata": {
        "id": "BER9G8xBubDg"
      }
    },
    {
      "cell_type": "code",
      "source": [
        "from sklearn import tree\n",
        "print(tree.export_text(regressor))"
      ],
      "metadata": {
        "colab": {
          "base_uri": "https://localhost:8080/"
        },
        "id": "Q9dvGUzJuc2W",
        "outputId": "93f8afaf-33c3-4bd8-9f93-4e99cc80738f"
      },
      "execution_count": null,
      "outputs": [
        {
          "output_type": "stream",
          "name": "stdout",
          "text": [
            "|--- feature_6 <= 920859968.00\n",
            "|   |--- feature_6 <= 507351088.00\n",
            "|   |   |--- feature_6 <= 332933120.00\n",
            "|   |   |   |--- feature_6 <= 221110752.00\n",
            "|   |   |   |   |--- feature_1 <= 2016.50\n",
            "|   |   |   |   |   |--- feature_3 <= 5741.00\n",
            "|   |   |   |   |   |   |--- feature_3 <= 3982.50\n",
            "|   |   |   |   |   |   |   |--- value: [138981250.00]\n",
            "|   |   |   |   |   |   |--- feature_3 >  3982.50\n",
            "|   |   |   |   |   |   |   |--- value: [142376500.00]\n",
            "|   |   |   |   |   |--- feature_3 >  5741.00\n",
            "|   |   |   |   |   |   |--- value: [120784000.00]\n",
            "|   |   |   |   |--- feature_1 >  2016.50\n",
            "|   |   |   |   |   |--- feature_6 <= 190872736.00\n",
            "|   |   |   |   |   |   |--- value: [182916903.00]\n",
            "|   |   |   |   |   |--- feature_6 >  190872736.00\n",
            "|   |   |   |   |   |   |--- value: [198828578.00]\n",
            "|   |   |   |--- feature_6 >  221110752.00\n",
            "|   |   |   |   |--- feature_6 <= 273412040.00\n",
            "|   |   |   |   |   |--- feature_6 <= 252672152.00\n",
            "|   |   |   |   |   |   |--- value: [243392925.00]\n",
            "|   |   |   |   |   |--- feature_6 >  252672152.00\n",
            "|   |   |   |   |   |   |--- value: [261951375.00]\n",
            "|   |   |   |   |--- feature_6 >  273412040.00\n",
            "|   |   |   |   |   |--- feature_6 <= 296859664.00\n",
            "|   |   |   |   |   |   |--- feature_5 <= 3.50\n",
            "|   |   |   |   |   |   |   |--- value: [286862000.00]\n",
            "|   |   |   |   |   |   |--- feature_5 >  3.50\n",
            "|   |   |   |   |   |   |   |--- value: [284872700.00]\n",
            "|   |   |   |   |   |--- feature_6 >  296859664.00\n",
            "|   |   |   |   |   |   |--- feature_3 <= 4542.00\n",
            "|   |   |   |   |   |   |   |--- value: [306857325.00]\n",
            "|   |   |   |   |   |   |--- feature_3 >  4542.00\n",
            "|   |   |   |   |   |   |   |--- value: [315525000.00]\n",
            "|   |   |--- feature_6 >  332933120.00\n",
            "|   |   |   |--- feature_6 <= 440430416.00\n",
            "|   |   |   |   |--- feature_6 <= 384942288.00\n",
            "|   |   |   |   |   |--- feature_36 <= 0.50\n",
            "|   |   |   |   |   |   |--- value: [350341253.00]\n",
            "|   |   |   |   |   |--- feature_36 >  0.50\n",
            "|   |   |   |   |   |   |--- value: [377450000.00]\n",
            "|   |   |   |   |--- feature_6 >  384942288.00\n",
            "|   |   |   |   |   |--- feature_6 <= 410435008.00\n",
            "|   |   |   |   |   |   |--- feature_22 <= 0.50\n",
            "|   |   |   |   |   |   |   |--- feature_5 <= 3.50\n",
            "|   |   |   |   |   |   |   |   |--- value: [405675000.00]\n",
            "|   |   |   |   |   |   |   |--- feature_5 >  3.50\n",
            "|   |   |   |   |   |   |   |   |--- value: [400000000.00]\n",
            "|   |   |   |   |   |   |--- feature_22 >  0.50\n",
            "|   |   |   |   |   |   |   |--- value: [392434595.00]\n",
            "|   |   |   |   |   |--- feature_6 >  410435008.00\n",
            "|   |   |   |   |   |   |--- feature_15 <= 0.50\n",
            "|   |   |   |   |   |   |   |--- feature_33 <= 0.50\n",
            "|   |   |   |   |   |   |   |   |--- value: [415499787.00]\n",
            "|   |   |   |   |   |   |   |--- feature_33 >  0.50\n",
            "|   |   |   |   |   |   |   |   |--- value: [415195000.00]\n",
            "|   |   |   |   |   |   |--- feature_15 >  0.50\n",
            "|   |   |   |   |   |   |   |--- value: [420700000.00]\n",
            "|   |   |   |--- feature_6 >  440430416.00\n",
            "|   |   |   |   |--- feature_6 <= 473656096.00\n",
            "|   |   |   |   |   |--- feature_4 <= 44167.00\n",
            "|   |   |   |   |   |   |--- value: [460160848.00]\n",
            "|   |   |   |   |   |--- feature_4 >  44167.00\n",
            "|   |   |   |   |   |   |--- feature_35 <= 0.50\n",
            "|   |   |   |   |   |   |   |--- value: [464028150.00]\n",
            "|   |   |   |   |   |   |--- feature_35 >  0.50\n",
            "|   |   |   |   |   |   |   |--- value: [464597000.00]\n",
            "|   |   |   |   |--- feature_6 >  473656096.00\n",
            "|   |   |   |   |   |--- feature_20 <= 0.50\n",
            "|   |   |   |   |   |   |--- feature_1 <= 2014.50\n",
            "|   |   |   |   |   |   |   |--- value: [498234000.00]\n",
            "|   |   |   |   |   |   |--- feature_1 >  2014.50\n",
            "|   |   |   |   |   |   |   |--- value: [500116190.00]\n",
            "|   |   |   |   |   |--- feature_20 >  0.50\n",
            "|   |   |   |   |   |   |--- value: [482715200.00]\n",
            "|   |--- feature_6 >  507351088.00\n",
            "|   |   |--- feature_6 <= 660012672.00\n",
            "|   |   |   |--- feature_6 <= 589297536.00\n",
            "|   |   |   |   |--- feature_6 <= 548684032.00\n",
            "|   |   |   |   |   |--- feature_6 <= 532703520.00\n",
            "|   |   |   |   |   |   |--- feature_6 <= 521777984.00\n",
            "|   |   |   |   |   |   |   |--- feature_5 <= 4.50\n",
            "|   |   |   |   |   |   |   |   |--- value: [517680954.00]\n",
            "|   |   |   |   |   |   |   |--- feature_5 >  4.50\n",
            "|   |   |   |   |   |   |   |   |--- value: [514586000.00]\n",
            "|   |   |   |   |   |   |--- feature_6 >  521777984.00\n",
            "|   |   |   |   |   |   |   |--- value: [525875000.00]\n",
            "|   |   |   |   |   |--- feature_6 >  532703520.00\n",
            "|   |   |   |   |   |   |--- feature_8 <= 0.50\n",
            "|   |   |   |   |   |   |   |--- value: [543528000.00]\n",
            "|   |   |   |   |   |   |--- feature_8 >  0.50\n",
            "|   |   |   |   |   |   |   |--- value: [539532000.00]\n",
            "|   |   |   |   |--- feature_6 >  548684032.00\n",
            "|   |   |   |   |   |--- feature_3 <= 3343.00\n",
            "|   |   |   |   |   |   |--- feature_5 <= 4.50\n",
            "|   |   |   |   |   |   |   |--- value: [553840050.00]\n",
            "|   |   |   |   |   |   |--- feature_5 >  4.50\n",
            "|   |   |   |   |   |   |   |--- feature_8 <= 0.50\n",
            "|   |   |   |   |   |   |   |   |--- value: [557960000.00]\n",
            "|   |   |   |   |   |   |   |--- feature_8 >  0.50\n",
            "|   |   |   |   |   |   |   |   |--- value: [562012500.00]\n",
            "|   |   |   |   |   |--- feature_3 >  3343.00\n",
            "|   |   |   |   |   |   |--- feature_4 <= 33130.00\n",
            "|   |   |   |   |   |   |   |--- value: [575201060.00]\n",
            "|   |   |   |   |   |   |--- feature_4 >  33130.00\n",
            "|   |   |   |   |   |   |   |--- value: [566175000.00]\n",
            "|   |   |   |--- feature_6 >  589297536.00\n",
            "|   |   |   |   |--- feature_6 <= 623426720.00\n",
            "|   |   |   |   |   |--- feature_6 <= 603656992.00\n",
            "|   |   |   |   |   |   |--- value: [603394000.00]\n",
            "|   |   |   |   |   |--- feature_6 >  603656992.00\n",
            "|   |   |   |   |   |   |--- value: [603920000.00]\n",
            "|   |   |   |   |--- feature_6 >  623426720.00\n",
            "|   |   |   |   |   |--- feature_6 <= 644684768.00\n",
            "|   |   |   |   |   |   |--- value: [642933455.00]\n",
            "|   |   |   |   |   |--- feature_6 >  644684768.00\n",
            "|   |   |   |   |   |   |--- value: [646436119.00]\n",
            "|   |   |--- feature_6 >  660012672.00\n",
            "|   |   |   |--- feature_6 <= 773772480.00\n",
            "|   |   |   |   |--- feature_6 <= 724035488.00\n",
            "|   |   |   |   |   |--- feature_3 <= 4025.50\n",
            "|   |   |   |   |   |   |--- feature_35 <= 0.50\n",
            "|   |   |   |   |   |   |   |--- value: [717155000.00]\n",
            "|   |   |   |   |   |   |--- feature_35 >  0.50\n",
            "|   |   |   |   |   |   |   |--- value: [711882500.00]\n",
            "|   |   |   |   |   |--- feature_3 >  4025.50\n",
            "|   |   |   |   |   |   |--- feature_31 <= 0.50\n",
            "|   |   |   |   |   |   |   |--- feature_12 <= 0.50\n",
            "|   |   |   |   |   |   |   |   |--- value: [673589250.00]\n",
            "|   |   |   |   |   |   |   |--- feature_12 >  0.50\n",
            "|   |   |   |   |   |   |   |   |--- value: [679561741.00]\n",
            "|   |   |   |   |   |   |--- feature_31 >  0.50\n",
            "|   |   |   |   |   |   |   |--- value: [694508000.00]\n",
            "|   |   |   |   |--- feature_6 >  724035488.00\n",
            "|   |   |   |   |   |--- feature_1 <= 2016.50\n",
            "|   |   |   |   |   |   |--- feature_31 <= 0.50\n",
            "|   |   |   |   |   |   |   |--- feature_5 <= 3.50\n",
            "|   |   |   |   |   |   |   |   |--- value: [751250000.00]\n",
            "|   |   |   |   |   |   |   |--- feature_5 >  3.50\n",
            "|   |   |   |   |   |   |   |   |--- value: [749665000.00]\n",
            "|   |   |   |   |   |   |--- feature_31 >  0.50\n",
            "|   |   |   |   |   |   |   |--- value: [754900000.00]\n",
            "|   |   |   |   |   |--- feature_1 >  2016.50\n",
            "|   |   |   |   |   |   |--- value: [730915990.00]\n",
            "|   |   |   |--- feature_6 >  773772480.00\n",
            "|   |   |   |   |--- feature_4 <= 11393.00\n",
            "|   |   |   |   |   |--- feature_5 <= 2.50\n",
            "|   |   |   |   |   |   |--- value: [792645000.00]\n",
            "|   |   |   |   |   |--- feature_5 >  2.50\n",
            "|   |   |   |   |   |   |--- value: [823275750.00]\n",
            "|   |   |   |   |--- feature_4 >  11393.00\n",
            "|   |   |   |   |   |--- feature_6 <= 883160000.00\n",
            "|   |   |   |   |   |   |--- feature_15 <= 0.50\n",
            "|   |   |   |   |   |   |   |--- value: [849470888.00]\n",
            "|   |   |   |   |   |   |--- feature_15 >  0.50\n",
            "|   |   |   |   |   |   |   |--- feature_2 <= 2022.50\n",
            "|   |   |   |   |   |   |   |   |--- value: [861752500.00]\n",
            "|   |   |   |   |   |   |   |--- feature_2 >  2022.50\n",
            "|   |   |   |   |   |   |   |   |--- value: [867100000.00]\n",
            "|   |   |   |   |   |--- feature_6 >  883160000.00\n",
            "|   |   |   |   |   |   |--- value: [899220000.00]\n",
            "|--- feature_6 >  920859968.00\n",
            "|   |--- feature_6 <= 1348303616.00\n",
            "|   |   |--- feature_6 <= 1105046400.00\n",
            "|   |   |   |--- feature_18 <= 0.50\n",
            "|   |   |   |   |--- feature_6 <= 995291936.00\n",
            "|   |   |   |   |   |--- feature_3 <= 1542.00\n",
            "|   |   |   |   |   |   |--- value: [942500000.00]\n",
            "|   |   |   |   |   |--- feature_3 >  1542.00\n",
            "|   |   |   |   |   |   |--- feature_15 <= 0.50\n",
            "|   |   |   |   |   |   |   |--- feature_1 <= 2014.00\n",
            "|   |   |   |   |   |   |   |   |--- feature_6 <= 972054752.00\n",
            "|   |   |   |   |   |   |   |   |   |--- value: [971809664.00]\n",
            "|   |   |   |   |   |   |   |   |--- feature_6 >  972054752.00\n",
            "|   |   |   |   |   |   |   |   |   |--- value: [972299833.00]\n",
            "|   |   |   |   |   |   |   |--- feature_1 >  2014.00\n",
            "|   |   |   |   |   |   |   |   |--- value: [974564500.00]\n",
            "|   |   |   |   |   |   |--- feature_15 >  0.50\n",
            "|   |   |   |   |   |   |   |--- value: [980200000.00]\n",
            "|   |   |   |   |--- feature_6 >  995291936.00\n",
            "|   |   |   |   |   |--- feature_2 <= 2022.50\n",
            "|   |   |   |   |   |   |--- value: [1010383875.00]\n",
            "|   |   |   |   |   |--- feature_2 >  2022.50\n",
            "|   |   |   |   |   |   |--- value: [1012047750.00]\n",
            "|   |   |   |--- feature_18 >  0.50\n",
            "|   |   |   |   |--- feature_6 <= 1062774176.00\n",
            "|   |   |   |   |   |--- value: [1047805500.00]\n",
            "|   |   |   |   |--- feature_6 >  1062774176.00\n",
            "|   |   |   |   |   |--- value: [1077742800.00]\n",
            "|   |   |--- feature_6 >  1105046400.00\n",
            "|   |   |   |--- feature_6 <= 1240087616.00\n",
            "|   |   |   |   |--- feature_3 <= 746.00\n",
            "|   |   |   |   |   |--- value: [1207840000.00]\n",
            "|   |   |   |   |--- feature_3 >  746.00\n",
            "|   |   |   |   |   |--- feature_4 <= 16694.00\n",
            "|   |   |   |   |   |   |--- feature_2 <= 2022.50\n",
            "|   |   |   |   |   |   |   |--- value: [1132350000.00]\n",
            "|   |   |   |   |   |   |--- feature_2 >  2022.50\n",
            "|   |   |   |   |   |   |   |--- value: [1141299688.00]\n",
            "|   |   |   |   |   |--- feature_4 >  16694.00\n",
            "|   |   |   |   |   |   |--- feature_1 <= 2013.50\n",
            "|   |   |   |   |   |   |   |--- value: [1152586050.00]\n",
            "|   |   |   |   |   |   |--- feature_1 >  2013.50\n",
            "|   |   |   |   |   |   |   |--- feature_8 <= 0.50\n",
            "|   |   |   |   |   |   |   |   |--- value: [1160070375.00]\n",
            "|   |   |   |   |   |   |   |--- feature_8 >  0.50\n",
            "|   |   |   |   |   |   |   |   |--- value: [1161492500.00]\n",
            "|   |   |   |--- feature_6 >  1240087616.00\n",
            "|   |   |   |   |--- feature_4 <= 23251.50\n",
            "|   |   |   |   |   |--- value: [1309726938.00]\n",
            "|   |   |   |   |--- feature_4 >  23251.50\n",
            "|   |   |   |   |   |--- value: [1272335250.00]\n",
            "|   |--- feature_6 >  1348303616.00\n",
            "|   |   |--- feature_6 <= 1631360576.00\n",
            "|   |   |   |--- feature_6 <= 1534286656.00\n",
            "|   |   |   |   |--- feature_3 <= 1817.50\n",
            "|   |   |   |   |   |--- value: [1496865000.00]\n",
            "|   |   |   |   |--- feature_3 >  1817.50\n",
            "|   |   |   |   |   |--- feature_18 <= 0.50\n",
            "|   |   |   |   |   |   |--- feature_1 <= 2016.00\n",
            "|   |   |   |   |   |   |   |--- value: [1431856153.00]\n",
            "|   |   |   |   |   |   |--- feature_1 >  2016.00\n",
            "|   |   |   |   |   |   |   |--- value: [1422021750.00]\n",
            "|   |   |   |   |   |--- feature_18 >  0.50\n",
            "|   |   |   |   |   |   |--- value: [1386880250.00]\n",
            "|   |   |   |--- feature_6 >  1534286656.00\n",
            "|   |   |   |   |--- feature_6 <= 1577942720.00\n",
            "|   |   |   |   |   |--- value: [1571708250.00]\n",
            "|   |   |   |   |--- feature_6 >  1577942720.00\n",
            "|   |   |   |   |   |--- value: [1584177135.00]\n",
            "|   |   |--- feature_6 >  1631360576.00\n",
            "|   |   |   |--- feature_6 <= 1796238016.00\n",
            "|   |   |   |   |--- feature_2 <= 2022.50\n",
            "|   |   |   |   |   |--- feature_4 <= 22277.50\n",
            "|   |   |   |   |   |   |--- value: [1721394750.00]\n",
            "|   |   |   |   |   |--- feature_4 >  22277.50\n",
            "|   |   |   |   |   |   |--- value: [1758816375.00]\n",
            "|   |   |   |   |--- feature_2 >  2022.50\n",
            "|   |   |   |   |   |--- feature_6 <= 1681258560.00\n",
            "|   |   |   |   |   |   |--- value: [1678544000.00]\n",
            "|   |   |   |   |   |--- feature_6 >  1681258560.00\n",
            "|   |   |   |   |   |   |--- value: [1683973125.00]\n",
            "|   |   |   |--- feature_6 >  1796238016.00\n",
            "|   |   |   |   |--- feature_4 <= 7298.00\n",
            "|   |   |   |   |   |--- feature_6 <= 1927213696.00\n",
            "|   |   |   |   |   |   |--- value: [1908502875.00]\n",
            "|   |   |   |   |   |--- feature_6 >  1927213696.00\n",
            "|   |   |   |   |   |   |--- value: [1945924500.00]\n",
            "|   |   |   |   |--- feature_4 >  7298.00\n",
            "|   |   |   |   |   |--- value: [1833659625.00]\n",
            "\n"
          ]
        }
      ]
    },
    {
      "cell_type": "code",
      "source": [
        "import graphviz\n",
        "dot_data = tree.export_graphviz(regressor, out_file=None, feature_names=x_train.columns, filled=True)"
      ],
      "metadata": {
        "id": "1sUashow8bto"
      },
      "execution_count": null,
      "outputs": []
    },
    {
      "cell_type": "code",
      "source": [
        "graph = graphviz.Source(dot_data)"
      ],
      "metadata": {
        "id": "O_LWaoDy_-ix"
      },
      "execution_count": null,
      "outputs": []
    },
    {
      "cell_type": "code",
      "source": [
        "graph"
      ],
      "metadata": {
        "id": "bMjv83iWAA8B"
      },
      "execution_count": null,
      "outputs": []
    }
  ]
}